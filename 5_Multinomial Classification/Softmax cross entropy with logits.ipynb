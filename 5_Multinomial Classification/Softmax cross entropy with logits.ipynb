{
 "cells": [
  {
   "cell_type": "code",
   "execution_count": 2,
   "metadata": {},
   "outputs": [],
   "source": [
    "import tensorflow as tf\n",
    "import numpy as np"
   ]
  },
  {
   "cell_type": "code",
   "execution_count": null,
   "metadata": {},
   "outputs": [],
   "source": [
    "xy = np.loadtxt('data.csv', delimiter=\",\", dtype=np.float32)\n",
    "x_data = xy[:, 0:-1]\n",
    "y_data = xy[:, [-1]]"
   ]
  },
  {
   "cell_type": "code",
   "execution_count": null,
   "metadata": {},
   "outputs": [],
   "source": [
    "# y Data의 분류 개수\n",
    "nb_classes = 7"
   ]
  },
  {
   "cell_type": "code",
   "execution_count": null,
   "metadata": {},
   "outputs": [],
   "source": [
    "X = tf.placeholder(\"float\", [None, 16])\n",
    "Y = tf.placeholder(\"int\", [None, 1]) #0~6"
   ]
  },
  {
   "cell_type": "code",
   "execution_count": null,
   "metadata": {},
   "outputs": [],
   "source": [
    "#one_hot을 적용하면 기존의 shape보다 한 차원 높은 shape으로 값이 도출\n",
    "#Ex [[1,1,1,1]] => [[[1,1,1,1]]]\n",
    "Y_one_hot = tf.one_hot(Y, nb_classes)  \n",
    "#내가 원하는 7가지의 분류 개수를 가지는 shape으로 변경\n",
    "Y_one_hot = tf.reshape(Y_one_hot, [-1, nb_classes])"
   ]
  },
  {
   "cell_type": "code",
   "execution_count": null,
   "metadata": {},
   "outputs": [],
   "source": [
    "W = tf.Variable(tf.random_normal([16, nb_classes]), name = \"weight\")\n",
    "b = tf.Variable(tf.random_normal([nb_classes]), name = \"bias\")"
   ]
  },
  {
   "cell_type": "code",
   "execution_count": null,
   "metadata": {},
   "outputs": [],
   "source": [
    "# H(x)를 도출하기 위한 기본 값을 logits로 설정\n",
    "logits = tf.matmul(X, W) + b\n",
    "hypo = tf.nn.softmax(logits)"
   ]
  },
  {
   "cell_type": "code",
   "execution_count": null,
   "metadata": {},
   "outputs": [],
   "source": [
    "#Cross Entropy cost/loss\n",
    "cost_i = tf.nn.softmax_cross_entropy_with_logits(\n",
    "    logits = logits,\n",
    "    labels = Y_one_hot\n",
    ")"
   ]
  },
  {
   "cell_type": "code",
   "execution_count": null,
   "metadata": {},
   "outputs": [],
   "source": [
    "cost = tf.reduce_mean(cost_i)\n",
    "optimizer = tf.train.GradientDescentOptimizer(learning_rate=0.1).optimize(cost)"
   ]
  },
  {
   "cell_type": "code",
   "execution_count": null,
   "metadata": {},
   "outputs": [],
   "source": [
    "#SoftMax로 도출된 확률을 토대로 맞는 Y를 도출 및 정확도 확인 \n",
    "prediction = tf.argmax(hypo, 1)\n",
    "correct_prediction = tf.equal(prediction, tf.argmax(Y_one_hot, 1))\n",
    "accuracy = tf.reduce_mean(tf.cast(correct_prediction, tf.float32))"
   ]
  },
  {
   "cell_type": "code",
   "execution_count": null,
   "metadata": {},
   "outputs": [],
   "source": [
    "#Learning \n",
    "with tf.Session() as sess : \n",
    "    sess.run(tf.global_variables_initializer())\n",
    "    for step in range(2001) :\n",
    "        sess.run(optimizer, feed_dict={X : x_data, Y : y_data})\n",
    "        if step % 100 == 0 :\n",
    "            loss, acc = sess.run(\n",
    "                [cost, accuracy], feed_dict={X : x_data, Y : y_data}\n",
    "            )\n",
    "            print(\"Step : {:5} \\t Loss : {:,3f} \\t Acc : {.2%}\".format(step,loss,acc))\n",
    "            \n",
    "    #예측값 확인\n",
    "    pred = sess.run(prediction, feed_dict={X : x_data})\n",
    "    #flatten [[1], [0]] => [1, 0]\n",
    "    #zip : pred, y_ 를 p, y로 묶어서 표현\n",
    "    for p, y in zip(pred, y_data.flatten()) :\n",
    "        print(\"[{}] Prediction : {} True Y : {}\".format(p==int(y), p, int(y)))"
   ]
  }
 ],
 "metadata": {
  "kernelspec": {
   "display_name": "Python 3",
   "language": "python",
   "name": "python3"
  },
  "language_info": {
   "codemirror_mode": {
    "name": "ipython",
    "version": 3
   },
   "file_extension": ".py",
   "mimetype": "text/x-python",
   "name": "python",
   "nbconvert_exporter": "python",
   "pygments_lexer": "ipython3",
   "version": "3.7.3"
  }
 },
 "nbformat": 4,
 "nbformat_minor": 2
}
