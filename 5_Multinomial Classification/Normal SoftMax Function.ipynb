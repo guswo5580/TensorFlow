{
 "cells": [
  {
   "cell_type": "code",
   "execution_count": 1,
   "metadata": {},
   "outputs": [],
   "source": [
    "import tensorflow as tf"
   ]
  },
  {
   "cell_type": "code",
   "execution_count": 2,
   "metadata": {},
   "outputs": [],
   "source": [
    "# Multi Data\n",
    "x_data = [[1,2,1,1], [2,1,3,2], [3,1,3,4], [4,1,5,5],\n",
    "         [1,7,5,5], [1,2,5,6], [1,6,6,6], [1,7,7,7]]\n",
    "# one-Hot Encoding 방식  - 각 자리 중 한 자리만 성공 value\n",
    "# 각 자리에 해당하는 것으로 값을 도출 Ex [0,0,1] = 2, [1,0,0] = 0\n",
    "y_data = [[0,0,1],[0,0,1], [0,0,1], \n",
    "          [0,1,0], [0,1,0], [0,1,0],\n",
    "          [1,0,0], [1,0,0]]"
   ]
  },
  {
   "cell_type": "code",
   "execution_count": 3,
   "metadata": {},
   "outputs": [],
   "source": [
    "X = tf.placeholder(\"float\", [None, 4])\n",
    "Y = tf.placeholder(\"float\", [None, 3])\n",
    "# class의 개수 = y data class의 개수\n",
    "nb_classes = 3"
   ]
  },
  {
   "cell_type": "code",
   "execution_count": 5,
   "metadata": {},
   "outputs": [],
   "source": [
    "# Shape 유의\n",
    "W = tf.Variable(tf.random_normal([4, nb_classes]), name = \"weight\")\n",
    "b = tf.Variable(tf.random_normal([nb_classes]), name = \"bias\")"
   ]
  },
  {
   "cell_type": "code",
   "execution_count": 6,
   "metadata": {},
   "outputs": [],
   "source": [
    "# softMax를 통한 계산\n",
    "hypo = tf.nn.softmax(tf.matmul(X,W) +b)"
   ]
  },
  {
   "cell_type": "code",
   "execution_count": 9,
   "metadata": {},
   "outputs": [],
   "source": [
    "# Cross Entropy cost/loss\n",
    "cost = tf.reduce_mean(-tf.reduce_sum(Y * tf.log(hypo), axis = 1))\n",
    "optimizer = tf.train.GradientDescentOptimizer(learning_rate=0.1).minimize(cost)"
   ]
  },
  {
   "cell_type": "code",
   "execution_count": 11,
   "metadata": {},
   "outputs": [
    {
     "name": "stdout",
     "output_type": "stream",
     "text": [
      "0 8.2658825\n",
      "200 0.60458827\n",
      "400 0.5017327\n",
      "600 0.4094477\n",
      "800 0.3187104\n",
      "1000 0.24062583\n",
      "1200 0.21641785\n",
      "1400 0.19754848\n",
      "1600 0.18160258\n",
      "1800 0.16795667\n",
      "2000 0.15615416\n"
     ]
    }
   ],
   "source": [
    "# Learning\n",
    "with tf.Session() as sess : \n",
    "    sess.run(tf.global_variables_initializer())\n",
    "    \n",
    "    for step in range(2001) : \n",
    "        # Learning 구간\n",
    "        sess.run(optimizer, feed_dict={X : x_data, Y : y_data})\n",
    "        if step % 200 == 0 :\n",
    "            print(step, sess.run(cost, feed_dict={X : x_data, Y : y_data}))"
   ]
  },
  {
   "cell_type": "code",
   "execution_count": null,
   "metadata": {},
   "outputs": [],
   "source": [
    "# Testing & One-hot encoding\n",
    "# using arg_max\n",
    "a = sess.run(hypo, feed_dict={X : [[1,11,7,9]]})\n",
    "print(a, sess.run(tf.arg_max(a, 1)))\n",
    "# 결과값은 각 X에 대한 확률을 바탕으로 one-hot encoding 의 경우를 통해 \n",
    "# Y에서의 Data를 선별(arg_max)"
   ]
  }
 ],
 "metadata": {
  "kernelspec": {
   "display_name": "Python 3",
   "language": "python",
   "name": "python3"
  },
  "language_info": {
   "codemirror_mode": {
    "name": "ipython",
    "version": 3
   },
   "file_extension": ".py",
   "mimetype": "text/x-python",
   "name": "python",
   "nbconvert_exporter": "python",
   "pygments_lexer": "ipython3",
   "version": "3.7.3"
  }
 },
 "nbformat": 4,
 "nbformat_minor": 2
}
