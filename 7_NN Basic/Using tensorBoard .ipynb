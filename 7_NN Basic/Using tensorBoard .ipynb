{
 "cells": [
  {
   "cell_type": "code",
   "execution_count": 1,
   "metadata": {},
   "outputs": [],
   "source": [
    "import tensorflow as tf\n",
    "import numpy as np"
   ]
  },
  {
   "cell_type": "code",
   "execution_count": 2,
   "metadata": {},
   "outputs": [],
   "source": [
    "tf.set_random_seed(777)  # for reproducibility"
   ]
  },
  {
   "cell_type": "code",
   "execution_count": 3,
   "metadata": {},
   "outputs": [],
   "source": [
    "x_data = np.array([[0, 0], [0, 1], [1, 0], [1, 1]], dtype=np.float32)\n",
    "y_data = np.array([[0], [1], [1], [0]], dtype=np.float32)"
   ]
  },
  {
   "cell_type": "code",
   "execution_count": 4,
   "metadata": {},
   "outputs": [],
   "source": [
    "X = tf.placeholder(tf.float32, [None, 2], name=\"x\")\n",
    "Y = tf.placeholder(tf.float32, [None, 1], name=\"y\")"
   ]
  },
  {
   "cell_type": "code",
   "execution_count": 6,
   "metadata": {},
   "outputs": [],
   "source": [
    "# TensorBoard 의 layer 분산 표기 name_scope\n",
    "with tf.name_scope(\"Layer1\"):\n",
    "    W1 = tf.Variable(tf.random_normal([2, 2]), name=\"weight_1\")\n",
    "    b1 = tf.Variable(tf.random_normal([2]), name=\"bias_1\")\n",
    "    layer1 = tf.sigmoid(tf.matmul(X, W1) + b1)\n",
    "    # Tensor의 종류와 대입 값을 선정 (histogram, scalar)\n",
    "    # 도출되는 값은 summary 모두 Board를 통해 연결 \n",
    "    tf.summary.histogram(\"W1\", W1)\n",
    "    tf.summary.histogram(\"b1\", b1)\n",
    "    tf.summary.histogram(\"Layer1\", layer1)"
   ]
  },
  {
   "cell_type": "code",
   "execution_count": 7,
   "metadata": {},
   "outputs": [],
   "source": [
    "with tf.name_scope(\"Layer2\"):\n",
    "    W2 = tf.Variable(tf.random_normal([2, 1]), name=\"weight_2\")\n",
    "    b2 = tf.Variable(tf.random_normal([1]), name=\"bias_2\")\n",
    "    hypothesis = tf.sigmoid(tf.matmul(layer1, W2) + b2)\n",
    "\n",
    "    tf.summary.histogram(\"W2\", W2)\n",
    "    tf.summary.histogram(\"b2\", b2)\n",
    "    tf.summary.histogram(\"Hypothesis\", hypothesis)"
   ]
  },
  {
   "cell_type": "code",
   "execution_count": 8,
   "metadata": {},
   "outputs": [],
   "source": [
    "# cost, train 수치도 Board로 분산, 집중 표현 \n",
    "with tf.name_scope(\"Cost\"):\n",
    "    cost = -tf.reduce_mean(Y * tf.log(hypothesis) + (1 - Y) * tf.log(1 - hypothesis))\n",
    "    tf.summary.scalar(\"Cost\", cost)\n",
    "\n",
    "with tf.name_scope(\"Train\"):\n",
    "    train = tf.train.AdamOptimizer(learning_rate=0.01).minimize(cost)\n"
   ]
  },
  {
   "cell_type": "code",
   "execution_count": 9,
   "metadata": {},
   "outputs": [
    {
     "data": {
      "text/plain": [
       "<tf.Tensor 'accuracy:0' shape=() dtype=string>"
      ]
     },
     "execution_count": 9,
     "metadata": {},
     "output_type": "execute_result"
    }
   ],
   "source": [
    "# Accuracy computation\n",
    "# True if hypothesis>0.5 else False\n",
    "predicted = tf.cast(hypothesis > 0.5, dtype=tf.float32)\n",
    "accuracy = tf.reduce_mean(tf.cast(tf.equal(predicted, Y), dtype=tf.float32))\n",
    "tf.summary.scalar(\"accuracy\", accuracy)"
   ]
  },
  {
   "cell_type": "code",
   "execution_count": 10,
   "metadata": {},
   "outputs": [
    {
     "name": "stdout",
     "output_type": "stream",
     "text": [
      "0 1.1075948\n",
      "100 0.69952923\n",
      "200 0.65879595\n",
      "300 0.62004936\n",
      "400 0.5582166\n",
      "500 0.47004214\n",
      "600 0.34622765\n",
      "700 0.23504838\n",
      "800 0.16395563\n",
      "900 0.12068249\n",
      "1000 0.092984885\n",
      "1100 0.074178934\n",
      "1200 0.06076122\n",
      "1300 0.05080209\n",
      "1400 0.043173186\n",
      "1500 0.037178177\n",
      "1600 0.03236717\n",
      "1700 0.028437916\n",
      "1800 0.0251809\n",
      "1900 0.02244639\n",
      "2000 0.020125236\n",
      "2100 0.018135889\n",
      "2200 0.016416445\n",
      "2300 0.014919011\n",
      "2400 0.0136062605\n",
      "2500 0.0124484375\n",
      "2600 0.011421731\n",
      "2700 0.010506877\n",
      "2800 0.009687953\n",
      "2900 0.008952001\n",
      "3000 0.0082881\n",
      "3100 0.00768721\n",
      "3200 0.0071415994\n",
      "3300 0.006644767\n",
      "3400 0.006191147\n",
      "3500 0.0057759574\n",
      "3600 0.00539507\n",
      "3700 0.005044865\n",
      "3800 0.0047222683\n",
      "3900 0.004424542\n",
      "4000 0.004149299\n",
      "4100 0.0038944539\n",
      "4200 0.0036580611\n",
      "4300 0.0034385817\n",
      "4400 0.0032344337\n",
      "4500 0.0030443668\n",
      "4600 0.002867162\n",
      "4700 0.0027018404\n",
      "4800 0.0025473796\n",
      "4900 0.0024029384\n",
      "5000 0.0022677649\n",
      "5100 0.0021411385\n",
      "5200 0.0020223837\n",
      "5300 0.00191099\n",
      "5400 0.0018063873\n",
      "5500 0.0017081108\n",
      "5600 0.0016157107\n",
      "5700 0.0015287672\n",
      "5800 0.0014469654\n",
      "5900 0.0013698713\n",
      "6000 0.0012972599\n",
      "6100 0.0012287723\n",
      "6200 0.0011641836\n",
      "6300 0.0011032394\n",
      "6400 0.0010457004\n",
      "6500 0.0009913719\n",
      "6600 0.00094001484\n",
      "6700 0.00089146465\n",
      "6800 0.0008456164\n",
      "6900 0.00080224604\n",
      "7000 0.0007611594\n",
      "7100 0.0007223413\n",
      "7200 0.00068559754\n",
      "7300 0.00065077865\n",
      "7400 0.0006177952\n",
      "7500 0.00058657234\n",
      "7600 0.00055699056\n",
      "7700 0.00052893045\n",
      "7800 0.00050234725\n",
      "7900 0.0004771363\n",
      "8000 0.0004532678\n",
      "8100 0.00043063727\n",
      "8200 0.00040912535\n",
      "8300 0.00038870214\n",
      "8400 0.0003693527\n",
      "8500 0.00035100238\n",
      "8600 0.00033360644\n",
      "8700 0.00031707535\n",
      "8800 0.00030134947\n",
      "8900 0.00028644368\n",
      "9000 0.0002722834\n",
      "9100 0.0002588239\n",
      "9200 0.0002460651\n",
      "9300 0.00023391756\n",
      "9400 0.00022242598\n",
      "9500 0.00021147111\n",
      "9600 0.00020112745\n",
      "9700 0.00019124594\n",
      "9800 0.00018182653\n",
      "9900 0.00017291398\n",
      "10000 0.0001644337\n",
      "\n",
      "Hypothesis:\n",
      "[[2.3169392e-04]\n",
      " [9.9985969e-01]\n",
      " [9.9986494e-01]\n",
      " [1.5031866e-04]] \n",
      "Predicted:\n",
      "[[0.]\n",
      " [1.]\n",
      " [1.]\n",
      " [0.]] \n",
      "Accuracy:\n",
      "1.0\n"
     ]
    }
   ],
   "source": [
    "# Launch graph\n",
    "with tf.Session() as sess:\n",
    "    # tensorboard --logdir=./logs/xor_logs --- multiline을 위한 하부 디렉토리 파일 구성\n",
    "    # summary 파일들 merge\n",
    "    merged_summary = tf.summary.merge_all()\n",
    "    # 파일 저장 디렉토리 선정 \n",
    "    writer = tf.summary.FileWriter(\"./logs/xor_logs_r0_01\")\n",
    "    # 그래프 보여줄 것을 명령 \n",
    "    writer.add_graph(sess.graph)  \n",
    "\n",
    "    # Initialize TensorFlow variables\n",
    "    sess.run(tf.global_variables_initializer())\n",
    "\n",
    "    for step in range(10001):\n",
    "        _, summary, cost_val = sess.run(\n",
    "            [train, merged_summary, cost], feed_dict={X: x_data, Y: y_data}\n",
    "        )\n",
    "        # Learning 하는 과정을 Board로 전송 \n",
    "        # global_step 은 Learning이 진행되는 횟수 \n",
    "        writer.add_summary(summary, global_step=step)\n",
    "\n",
    "        if step % 100 == 0:\n",
    "            print(step, cost_val)\n",
    "\n",
    "    # 파일 내에서 print한 과정 \n",
    "    h, p, a = sess.run(\n",
    "        [hypothesis, predicted, accuracy], feed_dict={X: x_data, Y: y_data}\n",
    "    )\n",
    "    \n",
    "    print(f\"\\nHypothesis:\\n{h} \\nPredicted:\\n{p} \\nAccuracy:\\n{a}\")\n",
    "\n",
    "# tensorboard --logdir=./logs --- 하위 폴더의 내용을 multiline으로 showing \n"
   ]
  },
  {
   "cell_type": "code",
   "execution_count": null,
   "metadata": {},
   "outputs": [],
   "source": []
  }
 ],
 "metadata": {
  "kernelspec": {
   "display_name": "Python 3",
   "language": "python",
   "name": "python3"
  },
  "language_info": {
   "codemirror_mode": {
    "name": "ipython",
    "version": 3
   },
   "file_extension": ".py",
   "mimetype": "text/x-python",
   "name": "python",
   "nbconvert_exporter": "python",
   "pygments_lexer": "ipython3",
   "version": "3.7.3"
  }
 },
 "nbformat": 4,
 "nbformat_minor": 2
}
