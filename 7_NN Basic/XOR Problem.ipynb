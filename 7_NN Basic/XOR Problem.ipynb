{
 "cells": [
  {
   "cell_type": "code",
   "execution_count": 2,
   "metadata": {},
   "outputs": [],
   "source": [
    "import tensorflow as tf\n",
    "import numpy as np"
   ]
  },
  {
   "cell_type": "code",
   "execution_count": 3,
   "metadata": {},
   "outputs": [],
   "source": [
    "tf.set_random_seed(777)  # for reproducibility"
   ]
  },
  {
   "cell_type": "code",
   "execution_count": 4,
   "metadata": {},
   "outputs": [],
   "source": [
    "# XOR Data \n",
    "x_data = np.array([[0, 0], [0, 1], [1, 0], [1, 1]], dtype=np.float32)\n",
    "y_data = np.array([[0], [1], [1], [0]], dtype=np.float32)"
   ]
  },
  {
   "cell_type": "code",
   "execution_count": 13,
   "metadata": {},
   "outputs": [],
   "source": [
    "X = tf.placeholder(tf.float32)\n",
    "Y = tf.placeholder(tf.float32)"
   ]
  },
  {
   "cell_type": "code",
   "execution_count": 14,
   "metadata": {},
   "outputs": [],
   "source": [
    "# [x1, x2] -> ML1 -> z1, z2 -> ML2 -> Y --- first layer \n",
    "# [input x num, out value(선택)], b는 out value와 일치하게 \n",
    "W1 = tf.Variable(tf.random_normal([2, 2]), name='weight1')\n",
    "b1 = tf.Variable(tf.random_normal([2]), name='bias1')\n",
    "# W1으로 첫 번째 ML 진행 \n",
    "layer1 = tf.sigmoid(tf.matmul(X, W1) + b1)"
   ]
  },
  {
   "cell_type": "code",
   "execution_count": 15,
   "metadata": {},
   "outputs": [],
   "source": [
    "# out value 는 결과값 Y 1개 , bias 도 1 \n",
    "W2 = tf.Variable(tf.random_normal([2, 1]), name='weight2')\n",
    "b2 = tf.Variable(tf.random_normal([1]), name='bias2')\n",
    "# layer1의 값을 이어받아 Y 도출 \n",
    "hypothesis = tf.sigmoid(tf.matmul(layer1, W2) + b2)"
   ]
  },
  {
   "cell_type": "code",
   "execution_count": 16,
   "metadata": {},
   "outputs": [
    {
     "name": "stdout",
     "output_type": "stream",
     "text": [
      "WARNING:tensorflow:From C:\\Users\\chj\\Anaconda3\\lib\\site-packages\\tensorflow\\python\\ops\\math_ops.py:3066: to_int32 (from tensorflow.python.ops.math_ops) is deprecated and will be removed in a future version.\n",
      "Instructions for updating:\n",
      "Use tf.cast instead.\n"
     ]
    }
   ],
   "source": [
    "# cost/loss function\n",
    "cost = -tf.reduce_mean(Y * tf.log(hypothesis) + (1 - Y) * tf.log(1 - hypothesis))\n",
    "train = tf.train.GradientDescentOptimizer(learning_rate=0.1).minimize(cost)"
   ]
  },
  {
   "cell_type": "code",
   "execution_count": 17,
   "metadata": {},
   "outputs": [],
   "source": [
    "# Accuracy computation\n",
    "# True if hypothesis>0.5 else False\n",
    "predicted = tf.cast(hypothesis > 0.5, dtype=tf.float32)\n",
    "accuracy = tf.reduce_mean(tf.cast(tf.equal(predicted, Y), dtype=tf.float32))"
   ]
  },
  {
   "cell_type": "code",
   "execution_count": 18,
   "metadata": {},
   "outputs": [
    {
     "name": "stdout",
     "output_type": "stream",
     "text": [
      "0 0.8003682\n",
      "100 0.690877\n",
      "200 0.6887093\n",
      "300 0.6859688\n",
      "400 0.68244755\n",
      "500 0.6779738\n",
      "600 0.672431\n",
      "700 0.66575325\n",
      "800 0.65789735\n",
      "900 0.64882743\n",
      "1000 0.63853323\n",
      "1100 0.627073\n",
      "1200 0.61461\n",
      "1300 0.60141104\n",
      "1400 0.5878005\n",
      "1500 0.5740936\n",
      "1600 0.5605395\n",
      "1700 0.5472956\n",
      "1800 0.53443235\n",
      "1900 0.52195454\n",
      "2000 0.50981724\n",
      "2100 0.4979206\n",
      "2200 0.48606753\n",
      "2300 0.4738665\n",
      "2400 0.46056145\n",
      "2500 0.44480282\n",
      "2600 0.4246803\n",
      "2700 0.39888835\n",
      "2800 0.36847705\n",
      "2900 0.33586633\n",
      "3000 0.30288163\n",
      "3100 0.27089784\n",
      "3200 0.24109918\n",
      "3300 0.21427222\n",
      "3400 0.19071926\n",
      "3500 0.170365\n",
      "3600 0.1529194\n",
      "3700 0.13800758\n",
      "3800 0.12524925\n",
      "3900 0.11429747\n",
      "4000 0.10485234\n",
      "4100 0.09666243\n",
      "4200 0.0895201\n",
      "4300 0.083255395\n",
      "4400 0.07772942\n",
      "4500 0.07282849\n",
      "4600 0.06845938\n",
      "4700 0.064545296\n",
      "4800 0.06102272\n",
      "4900 0.057838716\n",
      "5000 0.05494914\n",
      "5100 0.052316807\n",
      "5200 0.04991033\n",
      "5300 0.047702953\n",
      "5400 0.045671962\n",
      "5500 0.043797836\n",
      "5600 0.04206364\n",
      "5700 0.040454857\n",
      "5800 0.03895868\n",
      "5900 0.03756418\n",
      "6000 0.036261566\n",
      "6100 0.035042327\n",
      "6200 0.033898905\n",
      "6300 0.032824695\n",
      "6400 0.031813692\n",
      "6500 0.030860692\n",
      "6600 0.02996086\n",
      "6700 0.02911006\n",
      "6800 0.02830446\n",
      "6900 0.02754064\n",
      "7000 0.026815461\n",
      "7100 0.026126191\n",
      "7200 0.025470233\n",
      "7300 0.02484532\n",
      "7400 0.02424932\n",
      "7500 0.02368032\n",
      "7600 0.02313655\n",
      "7700 0.022616383\n",
      "7800 0.022118364\n",
      "7900 0.021641169\n",
      "8000 0.021183532\n",
      "8100 0.02074424\n",
      "8200 0.020322269\n",
      "8300 0.01991662\n",
      "8400 0.019526422\n",
      "8500 0.019150762\n",
      "8600 0.018788911\n",
      "8700 0.018440079\n",
      "8800 0.018103614\n",
      "8900 0.017778898\n",
      "9000 0.017465314\n",
      "9100 0.01716232\n",
      "9200 0.016869359\n",
      "9300 0.016585998\n",
      "9400 0.016311763\n",
      "9500 0.016046233\n",
      "9600 0.015788982\n",
      "9700 0.015539668\n",
      "9800 0.015297921\n",
      "9900 0.015063374\n",
      "10000 0.014835702\n",
      "\n",
      "Hypothesis:\n",
      "[[0.0175108 ]\n",
      " [0.986666  ]\n",
      " [0.98658305]\n",
      " [0.01462854]] \n",
      "Predicted:\n",
      "[[0.]\n",
      " [1.]\n",
      " [1.]\n",
      " [0.]] \n",
      "Accuracy:\n",
      "1.0\n"
     ]
    }
   ],
   "source": [
    "# Launch graph\n",
    "with tf.Session() as sess:\n",
    "    # Initialize TensorFlow variables\n",
    "    sess.run(tf.global_variables_initializer())\n",
    "\n",
    "    for step in range(10001):\n",
    "        _, cost_val = sess.run([train, cost], feed_dict={X: x_data, Y: y_data})\n",
    "        if step % 100 == 0:\n",
    "            print(step, cost_val)\n",
    "\n",
    "    # Accuracy report\n",
    "    h, p, a = sess.run(\n",
    "        [hypothesis, predicted, accuracy], feed_dict={X: x_data, Y: y_data}\n",
    "    )\n",
    "    \n",
    "    print(f\"\\nHypothesis:\\n{h} \\nPredicted:\\n{p} \\nAccuracy:\\n{a}\")"
   ]
  },
  {
   "cell_type": "code",
   "execution_count": null,
   "metadata": {},
   "outputs": [],
   "source": []
  }
 ],
 "metadata": {
  "kernelspec": {
   "display_name": "Python 3",
   "language": "python",
   "name": "python3"
  },
  "language_info": {
   "codemirror_mode": {
    "name": "ipython",
    "version": 3
   },
   "file_extension": ".py",
   "mimetype": "text/x-python",
   "name": "python",
   "nbconvert_exporter": "python",
   "pygments_lexer": "ipython3",
   "version": "3.7.3"
  }
 },
 "nbformat": 4,
 "nbformat_minor": 2
}
